{
 "cells": [
  {
   "cell_type": "code",
   "execution_count": 5,
   "id": "7c9ad31e-3117-4819-ae93-182892d7404b",
   "metadata": {},
   "outputs": [],
   "source": [
    "#measures of central tendency\n",
    "import statistics as st\n",
    "from scipy import stats\n",
    "import pandas as pd\n",
    "import numpy as np"
   ]
  },
  {
   "cell_type": "code",
   "execution_count": 4,
   "id": "d0a91596-e8bd-43ee-9edc-68cc8ec00d90",
   "metadata": {},
   "outputs": [
    {
     "name": "stdout",
     "output_type": "stream",
     "text": [
      "4.0\n"
     ]
    }
   ],
   "source": [
    "#Mean\n",
    "arr = np.array([1,2,3,4,4,5,6,7])\n",
    "print(np.mean(arr))"
   ]
  },
  {
   "cell_type": "code",
   "execution_count": 5,
   "id": "4e805fe8-9636-4fe8-aa7d-e8f2e4271e55",
   "metadata": {},
   "outputs": [
    {
     "name": "stdout",
     "output_type": "stream",
     "text": [
      "4.0\n"
     ]
    }
   ],
   "source": [
    "#Median\n",
    "arr = np.array([1,2,3,4,4,5,6,7])\n",
    "print(np.median(arr))"
   ]
  },
  {
   "cell_type": "code",
   "execution_count": 7,
   "id": "0c332c4d-1ccc-462b-b717-fbfa924898a9",
   "metadata": {},
   "outputs": [
    {
     "name": "stdout",
     "output_type": "stream",
     "text": [
      "4\n"
     ]
    }
   ],
   "source": [
    "#Mode\n",
    "arr = np.array([1,2,3,4,4,5,6,7])\n",
    "print(mode(arr))"
   ]
  },
  {
   "cell_type": "code",
   "execution_count": 13,
   "id": "4e69b591-9cdb-494c-9504-4ef117fbe443",
   "metadata": {},
   "outputs": [],
   "source": [
    "from scipy import stats"
   ]
  },
  {
   "cell_type": "code",
   "execution_count": 18,
   "id": "5d1fec0a-6b6d-423d-b95b-c316c63296a2",
   "metadata": {},
   "outputs": [
    {
     "name": "stdout",
     "output_type": "stream",
     "text": [
      "ModeResult(mode=np.int64(4), count=np.int64(2))\n"
     ]
    }
   ],
   "source": [
    "arr = np.array([1,2,3,4,4,5,6,7])\n",
    "print(stats.mode(arr))"
   ]
  },
  {
   "cell_type": "code",
   "execution_count": 19,
   "id": "47e87c0b-4bbc-46bf-8c90-9c91dbf9e7bb",
   "metadata": {},
   "outputs": [
    {
     "name": "stdout",
     "output_type": "stream",
     "text": [
      "Mean: 24\n",
      "Median: 20\n",
      "Mode: 20\n",
      "Multimode: [20]\n"
     ]
    }
   ],
   "source": [
    "import statistics as st\n",
    "\n",
    "data = [10, 20, 20, 30, 40]\n",
    "\n",
    "print(\"Mean:\", st.mean(data))      # average\n",
    "print(\"Median:\", st.median(data))  # middle value\n",
    "print(\"Mode:\", st.mode(data))      # most common\n",
    "print(\"Multimode:\", st.multimode(data))  # all common values\n"
   ]
  },
  {
   "cell_type": "code",
   "execution_count": 4,
   "id": "7c19bd59-e350-40a6-a26e-3afd5d8a84bb",
   "metadata": {},
   "outputs": [
    {
     "name": "stdout",
     "output_type": "stream",
     "text": [
      "Mode: 20\n",
      "Count: 2\n"
     ]
    }
   ],
   "source": [
    "import numpy as np\n",
    "from scipy import stats\n",
    "\n",
    "data = np.array([10, 20, 20, 30, 40, 40])\n",
    "\n",
    "mode_result = stats.mode(data)\n",
    "print(\"Mode:\", mode_result.mode)     # mode value\n",
    "print(\"Count:\", mode_result.count)   # how many times it occurs\n"
   ]
  },
  {
   "cell_type": "code",
   "execution_count": 2,
   "id": "51548eaf-d445-4102-a3f7-bc5124e4c1a4",
   "metadata": {},
   "outputs": [
    {
     "name": "stdout",
     "output_type": "stream",
     "text": [
      "Mean Age: 28.857142857142858\n",
      "Median Age: 29.0\n",
      "Mode Age: [25, 30]\n",
      "Mean Score: 90.71428571428571\n",
      "Median Score: 90.0\n",
      "Mode Score: [85, 100]\n"
     ]
    }
   ],
   "source": [
    "import pandas as pd\n",
    "\n",
    "df = pd.DataFrame({\n",
    "    \"Age\": [23, 25, 25, 29, 30, 30, 40],\n",
    "    \"Score\": [80, 85, 85, 90, 95, 100, 100]\n",
    "})\n",
    "\n",
    "print(\"Mean Age:\", df[\"Age\"].mean())\n",
    "print(\"Median Age:\", df[\"Age\"].median())\n",
    "print(\"Mode Age:\", df[\"Age\"].mode().tolist())\n",
    "\n",
    "print(\"Mean Score:\", df[\"Score\"].mean())\n",
    "print(\"Median Score:\", df[\"Score\"].median())\n",
    "print(\"Mode Score:\", df[\"Score\"].mode().tolist())\n"
   ]
  },
  {
   "cell_type": "code",
   "execution_count": 20,
   "id": "64db2a15-4692-4172-9ef0-6c09729d0da4",
   "metadata": {},
   "outputs": [
    {
     "name": "stdout",
     "output_type": "stream",
     "text": [
      "Statistics → Mean: 34.44444444444444\n",
      "Statistics → Median: 30\n",
      "Statistics → Mode: 20\n",
      "Statistics → Multi Mode: [20]\n",
      "SciPy → Mode: 20 | Count: 3\n",
      "Pandas → Mean: 34.44444444444444\n",
      "Pandas → Median: 30.0\n",
      "Pandas → Mode: [20]\n"
     ]
    }
   ],
   "source": [
    "import numpy as np\n",
    "import pandas as pd\n",
    "import statistics as st\n",
    "from scipy import stats\n",
    "\n",
    "data = [10, 20, 20, 20, 30, 30, 50, 60, 70]\n",
    "\n",
    "# ---------- From statistics ----------\n",
    "print(\"Statistics → Mean:\", st.mean(data))\n",
    "print(\"Statistics → Median:\", st.median(data))\n",
    "print(\"Statistics → Mode:\", st.mode(data))\n",
    "print(\"Statistics → Multi Mode:\", st.multimode(data))  # handles multiple modes\n",
    "\n",
    "# ---------- From scipy ----------\n",
    "result = stats.mode(data, keepdims=True)\n",
    "print(\"SciPy → Mode:\", result.mode[0], \"| Count:\", result.count[0])\n",
    "\n",
    "# ---------- From pandas ----------\n",
    "df = pd.DataFrame({\"data\": data})\n",
    "print(\"Pandas → Mean:\", df[\"data\"].mean())\n",
    "print(\"Pandas → Median:\", df[\"data\"].median())\n",
    "print(\"Pandas → Mode:\", df[\"data\"].mode().tolist())\n"
   ]
  },
  {
   "cell_type": "code",
   "execution_count": null,
   "id": "256d9c6f-753c-4460-b22e-8cf7ed4772d8",
   "metadata": {},
   "outputs": [],
   "source": []
  }
 ],
 "metadata": {
  "kernelspec": {
   "display_name": "Python 3 (ipykernel)",
   "language": "python",
   "name": "python3"
  },
  "language_info": {
   "codemirror_mode": {
    "name": "ipython",
    "version": 3
   },
   "file_extension": ".py",
   "mimetype": "text/x-python",
   "name": "python",
   "nbconvert_exporter": "python",
   "pygments_lexer": "ipython3",
   "version": "3.13.7"
  }
 },
 "nbformat": 4,
 "nbformat_minor": 5
}
