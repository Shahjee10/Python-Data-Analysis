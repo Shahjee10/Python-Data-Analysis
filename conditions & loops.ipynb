{
 "cells": [
  {
   "cell_type": "code",
   "execution_count": 3,
   "id": "ef987d56-d20c-4ebc-b27c-e2d95e62a688",
   "metadata": {},
   "outputs": [
    {
     "name": "stdout",
     "output_type": "stream",
     "text": [
      "you are a teenager\n"
     ]
    }
   ],
   "source": [
    "age = 20\n",
    "if age >= 19:\n",
    "  print('you are a teenager')\n",
    "\n",
    "else:\n",
    "  print('you are an adult')\n"
   ]
  },
  {
   "cell_type": "code",
   "execution_count": 29,
   "id": "f27a5126-5a51-477b-b426-1011d36fa18d",
   "metadata": {},
   "outputs": [
    {
     "name": "stdin",
     "output_type": "stream",
     "text": [
      "enter your age 8\n"
     ]
    },
    {
     "name": "stdout",
     "output_type": "stream",
     "text": [
      "you cannot play video games\n"
     ]
    }
   ],
   "source": [
    "age = int(input(\"enter your age\"))\n",
    "if age >=  10:\n",
    "      print('you can play video games')\n",
    "else:\n",
    "    print('you cannot play video games')\n",
    "    "
   ]
  },
  {
   "cell_type": "code",
   "execution_count": 37,
   "id": "001c9c22-151c-46de-adb6-a24cd4f939b6",
   "metadata": {},
   "outputs": [
    {
     "name": "stdin",
     "output_type": "stream",
     "text": [
      "number 10\n"
     ]
    },
    {
     "name": "stdout",
     "output_type": "stream",
     "text": [
      "positive number\n"
     ]
    }
   ],
   "source": [
    "number = int(input('number'))\n",
    "if number >= 0:\n",
    "  print('positive number')\n",
    "else:\n",
    "  print('negative number')\n",
    "  "
   ]
  },
  {
   "cell_type": "code",
   "execution_count": 49,
   "id": "c9c24c4f-52de-4664-ada6-c832d381e70e",
   "metadata": {},
   "outputs": [
    {
     "name": "stdout",
     "output_type": "stream",
     "text": [
      "1\n",
      "2\n",
      "3\n",
      "4\n",
      "5\n",
      "6\n",
      "7\n",
      "8\n",
      "9\n",
      "10\n",
      "11\n",
      "12\n",
      "13\n",
      "14\n",
      "15\n",
      "stopping the search found the culprit\n"
     ]
    }
   ],
   "source": [
    "for i in range(1, 20):\n",
    "    print(i)  # print every number\n",
    "    if i == 15:\n",
    "        print('stopping the search found the culprit')\n",
    "        break\n"
   ]
  },
  {
   "cell_type": "code",
   "execution_count": 52,
   "id": "7ba9ac86-6a59-49dc-b53d-b362ac5f6c9b",
   "metadata": {},
   "outputs": [
    {
     "name": "stdout",
     "output_type": "stream",
     "text": [
      "1\n",
      "2\n",
      "3\n",
      "4\n",
      "5\n",
      "6\n",
      "7\n",
      "8\n",
      "9\n",
      "10\n",
      "11\n",
      "12\n",
      "13\n",
      "14\n",
      "skipping the culprit\n",
      "16\n",
      "17\n",
      "18\n",
      "19\n"
     ]
    }
   ],
   "source": [
    "for i in range(1, 20):\n",
    "    if i == 15:\n",
    "        print('skipping the culprit')\n",
    "        continue   # skip printing 15\n",
    "    \n",
    "    print(i)  # print all other numbers\n"
   ]
  },
  {
   "cell_type": "code",
   "execution_count": 65,
   "id": "1d841cc4-eb6a-4c9f-921b-8ecc6442ad54",
   "metadata": {},
   "outputs": [
    {
     "name": "stdin",
     "output_type": "stream",
     "text": [
      "Enter The Goat's name:  ronaldo\n"
     ]
    },
    {
     "name": "stdout",
     "output_type": "stream",
     "text": [
      "INVALID GOAT \n"
     ]
    },
    {
     "name": "stdin",
     "output_type": "stream",
     "text": [
      "Enter The Correct goat's name Messi\n"
     ]
    },
    {
     "name": "stdout",
     "output_type": "stream",
     "text": [
      "Vamos the goat is here\n"
     ]
    }
   ],
   "source": [
    "name = input(\"Enter The Goat's name: \")\n",
    "\n",
    "while name != 'Messi':\n",
    "     print(\"INVALID GOAT \")\n",
    "     name = input(\"Enter The Correct goat's name\")\n",
    "\n",
    "print('Vamos the goat is here')\n",
    "  "
   ]
  },
  {
   "cell_type": "code",
   "execution_count": 80,
   "id": "d41c0ae7-903b-4367-a89b-53c446611aaa",
   "metadata": {},
   "outputs": [
    {
     "name": "stdin",
     "output_type": "stream",
     "text": [
      "enter your PIN number 1234\n"
     ]
    },
    {
     "name": "stdout",
     "output_type": "stream",
     "text": [
      "invalid pin\n"
     ]
    },
    {
     "name": "stdin",
     "output_type": "stream",
     "text": [
      "enter your PIN number again 123\n"
     ]
    },
    {
     "name": "stdout",
     "output_type": "stream",
     "text": [
      "login successful\n"
     ]
    }
   ],
   "source": [
    "# correct way \n",
    "PIN = 123\n",
    "Enter_PIN = int(input('enter your PIN number'))\n",
    "while Enter_PIN != PIN:\n",
    "    print('invalid pin')\n",
    "    Enter_PIN = int(input('enter your PIN number again'))\n",
    "\n",
    "print('login successful')\n",
    "    \n",
    "    "
   ]
  },
  {
   "cell_type": "code",
   "execution_count": null,
   "id": "6da797f8-af26-4330-a2d0-e6825433bf30",
   "metadata": {},
   "outputs": [],
   "source": []
  },
  {
   "cell_type": "code",
   "execution_count": 77,
   "id": "59f9e243-68fb-4c17-af3c-dfc52e037426",
   "metadata": {},
   "outputs": [
    {
     "name": "stdin",
     "output_type": "stream",
     "text": [
      "enter your pin 1234\n"
     ]
    },
    {
     "name": "stdout",
     "output_type": "stream",
     "text": [
      "invalid pin\n"
     ]
    },
    {
     "name": "stdin",
     "output_type": "stream",
     "text": [
      "enter your pin again 12345\n"
     ]
    },
    {
     "name": "stdout",
     "output_type": "stream",
     "text": [
      "invalid pin\n"
     ]
    },
    {
     "name": "stdin",
     "output_type": "stream",
     "text": [
      "enter your pin again 123456\n"
     ]
    },
    {
     "name": "stdout",
     "output_type": "stream",
     "text": [
      "invalid pin\n"
     ]
    },
    {
     "name": "stdin",
     "output_type": "stream",
     "text": [
      "enter your pin again 123\n"
     ]
    },
    {
     "name": "stdout",
     "output_type": "stream",
     "text": [
      "login successful\n"
     ]
    }
   ],
   "source": [
    "#while loop\n",
    "enter_PIN = int(input('enter your pin'))\n",
    "while enter_PIN != 123:\n",
    "     print('invalid pin')\n",
    "     enter_PIN = int(input('enter your pin again'))\n",
    "\n",
    "print('login successful')\n"
   ]
  },
  {
   "cell_type": "code",
   "execution_count": 3,
   "id": "663b576f-63dc-4970-8c70-234ef2248698",
   "metadata": {},
   "outputs": [
    {
     "name": "stdout",
     "output_type": "stream",
     "text": [
      "messi will play\n",
      "ronaldo will play\n",
      "neymar will play\n",
      "salah will play\n"
     ]
    }
   ],
   "source": [
    "#for loop\n",
    "footballers = [\"messi\",\"ronaldo\",\"neymar\",\"salah\"]\n",
    "for footballer in footballers:\n",
    "  print(footballer,\"will play\")"
   ]
  },
  {
   "cell_type": "code",
   "execution_count": 7,
   "id": "b2bb2819-e2b5-436d-a336-023034d6cfa2",
   "metadata": {},
   "outputs": [
    {
     "name": "stdout",
     "output_type": "stream",
     "text": [
      "1 * 1 = 1\n",
      "1 * 2 = 2\n",
      "1 * 3 = 3\n",
      "1 * 4 = 4\n",
      "1 * 5 = 5\n",
      "1 * 6 = 6\n",
      "1 * 7 = 7\n",
      "1 * 8 = 8\n",
      "1 * 9 = 9\n",
      "1 * 10 = 10\n",
      "2 * 1 = 2\n",
      "2 * 2 = 4\n",
      "2 * 3 = 6\n",
      "2 * 4 = 8\n",
      "2 * 5 = 10\n",
      "2 * 6 = 12\n",
      "2 * 7 = 14\n",
      "2 * 8 = 16\n",
      "2 * 9 = 18\n",
      "2 * 10 = 20\n",
      "3 * 1 = 3\n",
      "3 * 2 = 6\n",
      "3 * 3 = 9\n",
      "3 * 4 = 12\n",
      "3 * 5 = 15\n",
      "3 * 6 = 18\n",
      "3 * 7 = 21\n",
      "3 * 8 = 24\n",
      "3 * 9 = 27\n",
      "3 * 10 = 30\n"
     ]
    }
   ],
   "source": [
    "#nested loops\n",
    "for i in range(1,4):\n",
    "    for j in range(1,11):\n",
    "        print(i,'*',j, '=' ,i*j)"
   ]
  },
  {
   "cell_type": "code",
   "execution_count": 20,
   "id": "3617dae4-470e-4114-9d18-2a5725f727d4",
   "metadata": {},
   "outputs": [
    {
     "name": "stdout",
     "output_type": "stream",
     "text": [
      "1\n",
      "2\n",
      "3\n",
      "stopping the loop\n"
     ]
    }
   ],
   "source": [
    "for i in range(1, 6):\n",
    "    print(i)\n",
    "    if i == 3:\n",
    "        print(\"stopping the loop\")\n",
    "        break\n"
   ]
  },
  {
   "cell_type": "code",
   "execution_count": 41,
   "id": "97a7d88f-0bac-47e3-8f05-e999e6195cc0",
   "metadata": {},
   "outputs": [
    {
     "name": "stdout",
     "output_type": "stream",
     "text": [
      "1\n",
      "2\n",
      "skipping 3\n",
      "4\n",
      "5\n"
     ]
    }
   ],
   "source": [
    "for i in range(1, 6):\n",
    "    if i == 3:\n",
    "      print(\"skipping 3\")\n",
    "      continue   # skip printing i when i=3\n",
    "    print(i)\n"
   ]
  },
  {
   "cell_type": "code",
   "execution_count": 1,
   "id": "ae0567c4-3f63-40f8-9159-ec816676d0bc",
   "metadata": {},
   "outputs": [
    {
     "name": "stdin",
     "output_type": "stream",
     "text": [
      "Enter password:  12345\n"
     ]
    },
    {
     "name": "stdout",
     "output_type": "stream",
     "text": [
      "Incorrect password\n"
     ]
    },
    {
     "name": "stdin",
     "output_type": "stream",
     "text": [
      "Enter password again:  12345\n"
     ]
    },
    {
     "name": "stdout",
     "output_type": "stream",
     "text": [
      "Incorrect password\n"
     ]
    },
    {
     "name": "stdin",
     "output_type": "stream",
     "text": [
      "Enter password again:  1234\n"
     ]
    },
    {
     "name": "stdout",
     "output_type": "stream",
     "text": [
      "Login successful!\n"
     ]
    }
   ],
   "source": [
    "password = 1234\n",
    "enter_password = int(input(\"Enter password: \"))\n",
    "\n",
    "while enter_password != password:\n",
    "    print(\"Incorrect password\")\n",
    "    enter_password = int(input(\"Enter password again: \"))\n",
    "\n",
    "print(\"Login successful!\")\n"
   ]
  },
  {
   "cell_type": "code",
   "execution_count": 2,
   "id": "6b119058-826b-4835-a1a0-558a3f26856e",
   "metadata": {},
   "outputs": [
    {
     "name": "stdin",
     "output_type": "stream",
     "text": [
      "enter goat name ronaldo\n"
     ]
    },
    {
     "name": "stdout",
     "output_type": "stream",
     "text": [
      "incorrect goat name\n"
     ]
    },
    {
     "name": "stdin",
     "output_type": "stream",
     "text": [
      "enter correct goat name pele\n"
     ]
    },
    {
     "name": "stdout",
     "output_type": "stream",
     "text": [
      "incorrect goat name\n"
     ]
    },
    {
     "name": "stdin",
     "output_type": "stream",
     "text": [
      "enter correct goat name NEYMAR\n"
     ]
    },
    {
     "name": "stdout",
     "output_type": "stream",
     "text": [
      "incorrect goat name\n"
     ]
    },
    {
     "name": "stdin",
     "output_type": "stream",
     "text": [
      "enter correct goat name Messi\n"
     ]
    },
    {
     "name": "stdout",
     "output_type": "stream",
     "text": [
      "yess this is the real GOAT\n"
     ]
    }
   ],
   "source": [
    "goat_name = \"Messi\"\n",
    "enter_goat_name = input(\"enter goat name\")\n",
    "\n",
    "while enter_goat_name != goat_name:\n",
    "    print(\"incorrect goat name\")\n",
    "    enter_goat_name = input(\"enter correct goat name\")\n",
    "print(\"yess this is the real GOAT\")\n"
   ]
  },
  {
   "cell_type": "code",
   "execution_count": 14,
   "id": "b0ccdffb-8e5e-40a3-a95d-515f7b41a337",
   "metadata": {},
   "outputs": [
    {
     "name": "stdout",
     "output_type": "stream",
     "text": [
      "1 2 3 \n",
      "2 4 6 \n",
      "3 6 9 \n"
     ]
    }
   ],
   "source": [
    "for i in range(1, 4):       # outer loop (rows)\n",
    "    for j in range(1, 4):   # inner loop (columns)\n",
    "        print(i * j, end=\" \") \n",
    "    print() \n",
    "    \n",
    "    "
   ]
  },
  {
   "cell_type": "code",
   "execution_count": null,
   "id": "464d8ad4-b564-40ff-9fb4-d9c21085c760",
   "metadata": {},
   "outputs": [],
   "source": []
  }
 ],
 "metadata": {
  "kernelspec": {
   "display_name": "Python 3 (ipykernel)",
   "language": "python",
   "name": "python3"
  },
  "language_info": {
   "codemirror_mode": {
    "name": "ipython",
    "version": 3
   },
   "file_extension": ".py",
   "mimetype": "text/x-python",
   "name": "python",
   "nbconvert_exporter": "python",
   "pygments_lexer": "ipython3",
   "version": "3.13.7"
  }
 },
 "nbformat": 4,
 "nbformat_minor": 5
}
