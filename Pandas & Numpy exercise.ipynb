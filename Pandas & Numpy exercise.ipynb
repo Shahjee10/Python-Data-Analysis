{
 "cells": [
  {
   "cell_type": "code",
   "execution_count": 12,
   "id": "de5e0c9e-f39f-49ae-bb3e-c2696abe99e4",
   "metadata": {},
   "outputs": [],
   "source": [
    "import numpy as np\n",
    "import pandas as pd"
   ]
  },
  {
   "cell_type": "code",
   "execution_count": 14,
   "id": "423f2b8c-5fb8-4d11-9756-86cd42e9edd0",
   "metadata": {},
   "outputs": [
    {
     "name": "stdout",
     "output_type": "stream",
     "text": [
      "[ 6 12 18 24 30 36 42 48 54 60]\n",
      "the index with the maximum number in the array is: 9\n",
      "The max number in the array is: 60\n"
     ]
    }
   ],
   "source": [
    "#question 1 Numpy - Array operations\n",
    "# create a Numpy array of even numbers between2 and 20. Multiply all elements by 3. Find the maximum number in the array.\n",
    "\n",
    "numbers = np.array([2,4,6,8,10,12,14,16,18,20])\n",
    "multiply = (numbers * 3)\n",
    "print(multiply)\n",
    "\n",
    "# Index with the max number\n",
    "max_index = np.argmax(multiply)\n",
    "print(\"the index with the maximum number in the array is:\",max_index)\n",
    "\n",
    "# max number in the array\n",
    "max_number = np.max(multiply)\n",
    "print(\"The max number in the array is:\",max_number)\n"
   ]
  },
  {
   "cell_type": "code",
   "execution_count": 16,
   "id": "cf11c550-ac4a-47aa-bd16-63c93bf7e890",
   "metadata": {},
   "outputs": [
    {
     "name": "stdout",
     "output_type": "stream",
     "text": [
      "Original DataFrame:\n",
      "     Name  Salary  Experience\n",
      "0  Ahmed   50000           2\n",
      "1  Maria   60000           3\n",
      "2    Ali   40000           8\n",
      "3   Khan   20000           7\n",
      "\n",
      "Updated DataFrame:\n",
      "     Name  Salary  Experience\n",
      "0  Ahmed   50000           2\n",
      "1  Maria   60000           3\n",
      "2    Ali   44000           8\n",
      "3   Khan   22000           7\n"
     ]
    }
   ],
   "source": [
    "#question 2 Pandas - DataFrame Manipulation\n",
    "# create a DataFrame for 4 employees with columns: Name, Salary, Experience. Increase the salary by 10% for employees with more than 5 years of \n",
    "# experince. Display the updated DataFrame.\n",
    "\n",
    "data = {\n",
    "    \"Name\":[\"Ahmed\",\"Maria\",\"Ali\",\"Khan\"],\n",
    "    \"Salary\":[50000,60000,40000,20000],\n",
    "    \"Experience\":[2,3,8,7]\n",
    "}\n",
    "\n",
    "df = pd.DataFrame(data)\n",
    "print(\"Original DataFrame:\\n\", df)\n",
    "\n",
    "# Increase salary by 10% for employees with more than 5 years experience\n",
    "df.loc[df[\"Experience\"] > 5, \"Salary\"] = df[\"Salary\"] * 1.10\n",
    "\n",
    "print(\"\\nUpdated DataFrame:\\n\", df)\n"
   ]
  },
  {
   "cell_type": "code",
   "execution_count": 27,
   "id": "f2f9999d-452d-42d9-9ace-d549877263d6",
   "metadata": {},
   "outputs": [
    {
     "name": "stdin",
     "output_type": "stream",
     "text": [
      "enter number 0-100 98\n"
     ]
    },
    {
     "name": "stdout",
     "output_type": "stream",
     "text": [
      "A+\n"
     ]
    }
   ],
   "source": [
    "#question 3 if-else logic-Grading\n",
    "enter_number = int(input(\"enter number 0-100\"))\n",
    "if enter_number >= 90:\n",
    "    print(\"A+\")\n",
    "elif enter_number >=75:\n",
    "    print(\"A\")\n",
    "elif enter_number >=50:\n",
    "    print(\"B\")\n",
    "else:\n",
    "    print(\"FAIL\")\n",
    "  "
   ]
  },
  {
   "cell_type": "code",
   "execution_count": 30,
   "id": "a706343b-9a7e-459c-9fec-2acc2acd2e19",
   "metadata": {},
   "outputs": [
    {
     "name": "stdout",
     "output_type": "stream",
     "text": [
      "  Products  Price  Quantity\n",
      "0  Shampoo   1200       100\n",
      "1      Oil    650        30\n",
      "2  Cereals    500        55\n",
      "3     Milk    250       100\n",
      "4      Jam    180       120\n",
      "\n",
      "Price as NumPy array: [1200  650  500  250  180]\n",
      "\n",
      "DataFrame with Total Value:\n",
      "   Products  Price  Quantity  Total_Value\n",
      "0  Shampoo   1200       100       120000\n",
      "1      Oil    650        30        19500\n",
      "2  Cereals    500        55        27500\n",
      "3     Milk    250       100        25000\n",
      "4      Jam    180       120        21600\n"
     ]
    }
   ],
   "source": [
    "#question 4  Numpy+Pandas combined \n",
    "# create a dataframe for 5 products with columns: product, price ,quantity. convert the price column into a Numpy array.\n",
    "# find the total value of each product(price * quantity) and add it as new column. display the dataframe with the value column.\n",
    "data = {\n",
    "    \"Products\": [\"Shampoo\",\"Oil\",\"Cereals\",\"Milk\",\"Jam\"],\n",
    "    \"Price\": [1200,650,500,250,180],\n",
    "    \"Quantity\": [100,30,55,100,120]\n",
    "}\n",
    "\n",
    "df = pd.DataFrame(data)\n",
    "print(df)\n",
    "\n",
    "# Convert Price column into NumPy array\n",
    "price_array = df[\"Price\"].to_numpy()\n",
    "print(\"\\nPrice as NumPy array:\", price_array)\n",
    "\n",
    "# Calculate total value (Price * Quantity) and add as new column\n",
    "df[\"Total_Value\"] = df[\"Price\"] * df[\"Quantity\"]\n",
    "print(\"\\nDataFrame with Total Value:\\n\", df)\n",
    "\n"
   ]
  },
  {
   "cell_type": "code",
   "execution_count": 38,
   "id": "d7916767-8edb-4bb6-bc71-e294c931c773",
   "metadata": {},
   "outputs": [
    {
     "name": "stdout",
     "output_type": "stream",
     "text": [
      "  Students  Maths  English  Computer\n",
      "0      Ali     10        7        10\n",
      "1    Ahmed     10       10         4\n",
      "2      Zia      5        7         5\n",
      "3   Mohsin      8        6         3\n",
      "4    Moein      9        6         2\n",
      "  Students  Maths  English  Computer  Total Marks\n",
      "0      Ali     10        7        10           27\n",
      "1    Ahmed     10       10         4           24\n",
      "2      Zia      5        7         5           17\n",
      "3   Mohsin      8        6         3           17\n",
      "4    Moein      9        6         2           17\n",
      "  Students  Maths  English  Computer  Total Marks Grade\n",
      "0      Ali     10        7        10           27     A\n",
      "1    Ahmed     10       10         4           24     B\n",
      "2      Zia      5        7         5           17     C\n",
      "3   Mohsin      8        6         3           17     C\n",
      "4    Moein      9        6         2           17     C\n"
     ]
    }
   ],
   "source": [
    "data = {\n",
    "    \"Students\": [\"Ali\",\"Ahmed\",\"Zia\",\"Mohsin\",\"Moein\"],\n",
    "    \"Maths\": [10,10,5,8,9],\n",
    "    \"English\": [7,10,7,6,6],\n",
    "    \"Computer\": [10,4,5,3,2]\n",
    "}\n",
    "\n",
    "df = pd.DataFrame(data)\n",
    "print(df)\n",
    "\n",
    "# Calculate Total Marks\n",
    "df[\"Total Marks\"] = df[\"Maths\"] + df[\"English\"] + df[\"Computer\"]\n",
    "print(df)\n",
    "\n",
    "# Function for grading\n",
    "def get_grade(marks):\n",
    "    if marks >= 25:\n",
    "        return \"A\"\n",
    "    elif marks >= 20:\n",
    "        return \"B\"\n",
    "    elif marks >= 15:\n",
    "        return \"C\"\n",
    "    elif marks >= 10:\n",
    "        return \"D\"\n",
    "    else:\n",
    "        return \"F\"\n",
    "\n",
    "# Apply grading\n",
    "df[\"Grade\"] = df[\"Total Marks\"].apply(get_grade)\n",
    "\n",
    "print(df)\n"
   ]
  },
  {
   "cell_type": "code",
   "execution_count": 46,
   "id": "f5159f9f-9efc-489c-bd79-d69dec523094",
   "metadata": {},
   "outputs": [
    {
     "data": {
      "image/png": "[encoded data removed]",
      "text/plain": [
       "<Figure size 1400x500 with 2 Axes>"
      ]
     },
     "metadata": {},
     "output_type": "display_data"
    }
   ],
   "source": [
    "# Create a figure with size\n",
    "plt.figure(figsize=(14,5))\n",
    "\n",
    "# ---- Bar Chart (left side) ----\n",
    "plt.subplot(1,2,1)  # 1 row, 2 columns, first plot\n",
    "plt.bar(df[\"Students\"], df[\"Total Marks\"], color=\"orange\")  # x=students, y=marks\n",
    "plt.title(\"Students Marks (Bar Chart)\")\n",
    "plt.xlabel(\"Student Names\")\n",
    "plt.ylabel(\"Total Marks\")\n",
    "\n",
    "# ---- Line Chart (right side) ----\n",
    "plt.subplot(1,2,2)  # 1 row, 2 columns, second plot\n",
    "plt.plot(df[\"Students\"], df[\"Total Marks\"], marker=\"o\", color=\"purple\")\n",
    "plt.title(\"Students Marks (Line Chart)\")\n",
    "plt.xlabel(\"Student Names\")\n",
    "plt.ylabel(\"Total Marks\")\n",
    "\n",
    "# Show plots\n",
    "plt.tight_layout()"
   ]
  },
  {
   "cell_type": "code",
   "execution_count": null,
   "id": "5b9a6bb1-8770-428f-810c-de7df325172d",
   "metadata": {},
   "outputs": [],
   "source": []
  },
  {
   "cell_type": "code",
   "execution_count": null,
   "id": "dbe71e00-2ba3-4f18-9ec9-afb4bc60769f",
   "metadata": {},
   "outputs": [],
   "source": []
  }
 ],
 "metadata": {
  "kernelspec": {
   "display_name": "Python 3 (ipykernel)",
   "language": "python",
   "name": "python3"
  },
  "language_info": {
   "codemirror_mode": {
    "name": "ipython",
    "version": 3
   },
   "file_extension": ".py",
   "mimetype": "text/x-python",
   "name": "python",
   "nbconvert_exporter": "python",
   "pygments_lexer": "ipython3",
   "version": "3.13.7"
  }
 },
 "nbformat": 4,
 "nbformat_minor": 5
}
